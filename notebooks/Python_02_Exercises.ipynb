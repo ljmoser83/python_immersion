{
 "cells": [
  {
   "cell_type": "markdown",
   "metadata": {},
   "source": [
    "# Python Immersion Course - Part 2 - Exercises\n"
   ]
  },
  {
   "cell_type": "markdown",
   "metadata": {},
   "source": [
    "### Exercise 01"
   ]
  },
  {
   "cell_type": "markdown",
   "metadata": {},
   "source": [
    "For this exercise, we'll be using the `input()` function built-in to Python\n",
    "\n",
    "`input()` prompts a user to input a value that you can then process."
   ]
  },
  {
   "cell_type": "code",
   "execution_count": 1,
   "metadata": {},
   "outputs": [
    {
     "name": "stdin",
     "output_type": "stream",
     "text": [
      " Lee\n"
     ]
    }
   ],
   "source": [
    "test_input = input()"
   ]
  },
  {
   "cell_type": "markdown",
   "metadata": {},
   "source": [
    "Let's build an app!"
   ]
  },
  {
   "cell_type": "code",
   "execution_count": 7,
   "metadata": {},
   "outputs": [
    {
     "name": "stdin",
     "output_type": "stream",
     "text": [
      " dogs\n"
     ]
    }
   ],
   "source": [
    "# import our dependency libraries\n",
    "from webbrowser import open_new_tab\n",
    "# create a website list\n",
    "websites = ['https://www.google.com/search?q=']\n",
    "# define a search function with a user input\n",
    "def search(search_engines):\n",
    "    # place a variable below with an input to complete the program\n",
    "        search_phrase = input()\n",
    "    # interate through list to create search URLs\n",
    "        for i in search_engines:\n",
    "        # use open_new_tab to push URLs to browser\n",
    "            open_new_tab(i + search_phrase)\n",
    "\n",
    "# run the function with the argument 'websites'\n",
    "search(websites)"
   ]
  },
  {
   "cell_type": "code",
   "execution_count": null,
   "metadata": {},
   "outputs": [],
   "source": []
  },
  {
   "cell_type": "markdown",
   "metadata": {},
   "source": [
    "### Exercise 02"
   ]
  },
  {
   "cell_type": "markdown",
   "metadata": {},
   "source": [
    "For this exercise, we'll be using the flow control to build a simple RPG game\n",
    "\n",
    "* Allow the player to name their character\n",
    "* The player must make at least 3 choices\n",
    "\n",
    "Use the above examples for assistance."
   ]
  },
  {
   "cell_type": "code",
   "execution_count": null,
   "metadata": {},
   "outputs": [],
   "source": [
    "# place your RPG program here and in the cells below as needed\n",
    "\n"
   ]
  },
  {
   "cell_type": "code",
   "execution_count": null,
   "metadata": {},
   "outputs": [],
   "source": []
  },
  {
   "cell_type": "markdown",
   "metadata": {},
   "source": [
    "### Exercise 03"
   ]
  },
  {
   "cell_type": "markdown",
   "metadata": {},
   "source": [
    "For this exercise, we'll be expanding our RPG from above.\n",
    "\n",
    "* Define functions for\n",
    "  * the main character\n",
    "  * at least 1 NPC\n",
    "  * at least 1 action (e.g., fighting, trading, movement)\n",
    "* Replace code blocks in your original program with these new functions\n",
    "\n",
    "Use the above examples, stack overflow, and web searches for assistance."
   ]
  },
  {
   "cell_type": "code",
   "execution_count": null,
   "metadata": {},
   "outputs": [],
   "source": [
    "# place your RPG program here and in the cells below as needed\n",
    "\n"
   ]
  },
  {
   "cell_type": "code",
   "execution_count": null,
   "metadata": {},
   "outputs": [],
   "source": []
  },
  {
   "cell_type": "markdown",
   "metadata": {},
   "source": [
    "### Exercise 04"
   ]
  },
  {
   "cell_type": "markdown",
   "metadata": {},
   "source": [
    "For this exercise, revise your RPG. Incorporate data structures and other libraries from PyPI as desired."
   ]
  },
  {
   "cell_type": "code",
   "execution_count": null,
   "metadata": {},
   "outputs": [],
   "source": [
    "# place your RPG program here and in the cells below as needed\n",
    "\n"
   ]
  },
  {
   "cell_type": "code",
   "execution_count": null,
   "metadata": {},
   "outputs": [],
   "source": []
  }
 ],
 "metadata": {
  "kernelspec": {
   "display_name": "Python 3",
   "language": "python",
   "name": "python3"
  },
  "language_info": {
   "codemirror_mode": {
    "name": "ipython",
    "version": 3
   },
   "file_extension": ".py",
   "mimetype": "text/x-python",
   "name": "python",
   "nbconvert_exporter": "python",
   "pygments_lexer": "ipython3",
   "version": "3.6.6"
  }
 },
 "nbformat": 4,
 "nbformat_minor": 2
}
